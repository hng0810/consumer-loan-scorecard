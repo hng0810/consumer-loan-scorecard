{
 "cells": [
  {
   "cell_type": "markdown",
   "id": "abe06248",
   "metadata": {},
   "source": [
    "# XÂY DỰNG SCORECARD TRÊN DỮ LIỆU LOAN_DATA_2015"
   ]
  },
  {
   "cell_type": "markdown",
   "id": "83f9ab12",
   "metadata": {},
   "source": [
    "## 1. Nhập libraries và dev functions"
   ]
  },
  {
   "cell_type": "code",
   "execution_count": null,
   "id": "5b262ad0",
   "metadata": {},
   "outputs": [],
   "source": [
    "import os\n",
    "import numpy as np\n",
    "import pandas as pd\n",
    "import matplotlib.pyplot as plt\n",
    "from pathlib import Path"
   ]
  },
  {
   "cell_type": "code",
   "execution_count": null,
   "id": "f33c30d5",
   "metadata": {},
   "outputs": [],
   "source": [
    "!pip freeze > requirements.txt"
   ]
  },
  {
   "cell_type": "code",
   "execution_count": 7,
   "id": "2163c6db",
   "metadata": {},
   "outputs": [],
   "source": [
    "def calculate_missing_percentage(df=pd.DataFrame()):\n",
    "    \"\"\"\n",
    "    Bảng tỷ lệ giá trị khuyết thiếu của DataFrame\n",
    "    \"\"\"\n",
    "    missing_value_percentage = []\n",
    "    for col in df.columns:\n",
    "        missing_value_percentage.append((col, df[col].isnull().sum() / len(df)))\n",
    "    missing_value_percentage = sorted(missing_value_percentage, key=lambda x: x[1], reverse=True)\n",
    "    missing_value_percentage = pd.DataFrame(missing_value_percentage, columns=['Feature', 'Missing Value Percentage'])\n",
    "    return missing_value_percentage.T"
   ]
  },
  {
   "cell_type": "markdown",
   "id": "1e44f5de",
   "metadata": {},
   "source": [
    "## 2. Phân tích nghiệp vụ"
   ]
  },
  {
   "cell_type": "markdown",
   "id": "8dec5fed",
   "metadata": {},
   "source": []
  },
  {
   "cell_type": "markdown",
   "id": "b9ca7e76",
   "metadata": {},
   "source": [
    "## 3. Kiểm tra lại khung thời gian xây dựng (Sample Cohort Analysis)"
   ]
  },
  {
   "cell_type": "markdown",
   "id": "dd64c57e",
   "metadata": {},
   "source": []
  },
  {
   "cell_type": "code",
   "execution_count": null,
   "id": "d44f8362",
   "metadata": {},
   "outputs": [],
   "source": []
  },
  {
   "cell_type": "markdown",
   "id": "701db789",
   "metadata": {},
   "source": [
    "## 4. EDA"
   ]
  },
  {
   "cell_type": "code",
   "execution_count": null,
   "id": "52a9a71c",
   "metadata": {},
   "outputs": [],
   "source": [
    "# Nhập dữ liệu\n",
    "path = Path.cwd().parent\n",
    "data_path = path /'data'/'loan_data_2015.csv'\n",
    "loan_data = pd.read_csv(data_path, low_memory=False)"
   ]
  },
  {
   "cell_type": "code",
   "execution_count": 14,
   "id": "5c789116",
   "metadata": {},
   "outputs": [
    {
     "name": "stdout",
     "output_type": "stream",
     "text": [
      "<class 'pandas.core.frame.DataFrame'>\n",
      "RangeIndex: 421094 entries, 0 to 421093\n",
      "Data columns (total 74 columns):\n",
      " #   Column                       Non-Null Count   Dtype  \n",
      "---  ------                       --------------   -----  \n",
      " 0   id                           421094 non-null  int64  \n",
      " 1   member_id                    421094 non-null  int64  \n",
      " 2   loan_amnt                    421094 non-null  int64  \n",
      " 3   funded_amnt                  421094 non-null  int64  \n",
      " 4   funded_amnt_inv              421094 non-null  int64  \n",
      " 5   term                         421094 non-null  object \n",
      " 6   int_rate                     421094 non-null  float64\n",
      " 7   installment                  421094 non-null  float64\n",
      " 8   grade                        421094 non-null  object \n",
      " 9   sub_grade                    421094 non-null  object \n",
      " 10  emp_title                    397220 non-null  object \n",
      " 11  emp_length                   397277 non-null  object \n",
      " 12  home_ownership               421094 non-null  object \n",
      " 13  annual_inc                   421094 non-null  float64\n",
      " 14  verification_status          421094 non-null  object \n",
      " 15  issue_d                      421094 non-null  object \n",
      " 16  loan_status                  421094 non-null  object \n",
      " 17  pymnt_plan                   421094 non-null  object \n",
      " 18  url                          421094 non-null  object \n",
      " 19  desc                         45 non-null      object \n",
      " 20  purpose                      421094 non-null  object \n",
      " 21  title                        420962 non-null  object \n",
      " 22  zip_code                     421094 non-null  object \n",
      " 23  addr_state                   421094 non-null  object \n",
      " 24  dti                          421094 non-null  float64\n",
      " 25  delinq_2yrs                  421094 non-null  int64  \n",
      " 26  earliest_cr_line             421094 non-null  object \n",
      " 27  inq_last_6mths               421094 non-null  int64  \n",
      " 28  mths_since_last_delinq       217133 non-null  float64\n",
      " 29  mths_since_last_record       74415 non-null   float64\n",
      " 30  open_acc                     421094 non-null  int64  \n",
      " 31  pub_rec                      421094 non-null  int64  \n",
      " 32  revol_bal                    421094 non-null  int64  \n",
      " 33  revol_util                   420932 non-null  float64\n",
      " 34  total_acc                    421094 non-null  int64  \n",
      " 35  initial_list_status          421094 non-null  object \n",
      " 36  out_prncp                    421094 non-null  float64\n",
      " 37  out_prncp_inv                421094 non-null  float64\n",
      " 38  total_pymnt                  421094 non-null  float64\n",
      " 39  total_pymnt_inv              421094 non-null  float64\n",
      " 40  total_rec_prncp              421094 non-null  float64\n",
      " 41  total_rec_int                421094 non-null  float64\n",
      " 42  total_rec_late_fee           421094 non-null  float64\n",
      " 43  recoveries                   421094 non-null  float64\n",
      " 44  collection_recovery_fee      421094 non-null  float64\n",
      " 45  last_pymnt_d                 403811 non-null  object \n",
      " 46  last_pymnt_amnt              421094 non-null  float64\n",
      " 47  next_pymnt_d                 395337 non-null  object \n",
      " 48  last_credit_pull_d           421083 non-null  object \n",
      " 49  collections_12_mths_ex_med   421094 non-null  int64  \n",
      " 50  mths_since_last_major_derog  122729 non-null  float64\n",
      " 51  policy_code                  421094 non-null  int64  \n",
      " 52  application_type             421094 non-null  object \n",
      " 53  annual_inc_joint             511 non-null     float64\n",
      " 54  dti_joint                    509 non-null     float64\n",
      " 55  verification_status_joint    511 non-null     object \n",
      " 56  acc_now_delinq               421094 non-null  int64  \n",
      " 57  tot_coll_amt                 421094 non-null  int64  \n",
      " 58  tot_cur_bal                  421094 non-null  int64  \n",
      " 59  open_acc_6m                  21372 non-null   float64\n",
      " 60  open_il_6m                   21372 non-null   float64\n",
      " 61  open_il_12m                  21372 non-null   float64\n",
      " 62  open_il_24m                  21372 non-null   float64\n",
      " 63  mths_since_rcnt_il           20810 non-null   float64\n",
      " 64  total_bal_il                 21372 non-null   float64\n",
      " 65  il_util                      18617 non-null   float64\n",
      " 66  open_rv_12m                  21372 non-null   float64\n",
      " 67  open_rv_24m                  21372 non-null   float64\n",
      " 68  max_bal_bc                   21372 non-null   float64\n",
      " 69  all_util                     21372 non-null   float64\n",
      " 70  total_rev_hi_lim             421094 non-null  int64  \n",
      " 71  inq_fi                       21372 non-null   float64\n",
      " 72  total_cu_tl                  21372 non-null   float64\n",
      " 73  inq_last_12m                 21372 non-null   float64\n",
      "dtypes: float64(34), int64(17), object(23)\n",
      "memory usage: 237.7+ MB\n"
     ]
    }
   ],
   "source": [
    "loan_data.info()"
   ]
  },
  {
   "cell_type": "markdown",
   "id": "e0195ffc",
   "metadata": {},
   "source": [
    "### 3.1. Làm sạch dữ liệu định tính"
   ]
  },
  {
   "cell_type": "code",
   "execution_count": null,
   "id": "3e91ff7a",
   "metadata": {},
   "outputs": [
    {
     "name": "stdout",
     "output_type": "stream",
     "text": [
      "term 2\n",
      "grade 7\n",
      "sub_grade 35\n",
      "emp_title 120811\n",
      "emp_length 11\n",
      "home_ownership 4\n",
      "verification_status 3\n",
      "issue_d 12\n",
      "loan_status 8\n",
      "pymnt_plan 2\n",
      "url 421094\n",
      "desc 34\n",
      "purpose 14\n",
      "title 27\n",
      "zip_code 914\n",
      "addr_state 49\n",
      "earliest_cr_line 668\n",
      "initial_list_status 2\n",
      "last_pymnt_d 13\n",
      "next_pymnt_d 3\n",
      "last_credit_pull_d 14\n",
      "application_type 2\n",
      "verification_status_joint 3\n"
     ]
    }
   ],
   "source": [
    "# In features dạng object và giá trị unique\n",
    "cat_cols = loan_data.select_dtypes('object').columns\n",
    "for col in cat_cols:\n",
    "    print(col, loan_data[col].nunique())"
   ]
  },
  {
   "cell_type": "code",
   "execution_count": 20,
   "id": "1d05a58a",
   "metadata": {},
   "outputs": [
    {
     "data": {
      "text/plain": [
       "term\n",
       "36 months    283172\n",
       "60 months    137922\n",
       "Name: count, dtype: int64"
      ]
     },
     "execution_count": 20,
     "metadata": {},
     "output_type": "execute_result"
    }
   ],
   "source": [
    "loan_data.term.value_counts()"
   ]
  }
 ],
 "metadata": {
  "kernelspec": {
   "display_name": "venv",
   "language": "python",
   "name": "python3"
  },
  "language_info": {
   "codemirror_mode": {
    "name": "ipython",
    "version": 3
   },
   "file_extension": ".py",
   "mimetype": "text/x-python",
   "name": "python",
   "nbconvert_exporter": "python",
   "pygments_lexer": "ipython3",
   "version": "3.11.1"
  }
 },
 "nbformat": 4,
 "nbformat_minor": 5
}
